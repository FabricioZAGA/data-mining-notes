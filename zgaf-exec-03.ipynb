{
 "cells": [
  {
   "cell_type": "code",
   "execution_count": 5,
   "source": [
    "import pandas as pd \r\n",
    "import pymssql as pymsql\r\n",
    "import pymysql as mysql"
   ],
   "outputs": [],
   "metadata": {}
  },
  {
   "cell_type": "code",
   "execution_count": 6,
   "source": [
    "try: sqlCon = pymsql.connect(server = 'ZAGA', user = 'root', password = 'nintendo123', database = 'AdventureWorks2019'); print ('Succesfully connected to SQL Server')\r\n",
    "except: print ('Cannot connect to SQL Server')"
   ],
   "outputs": [
    {
     "output_type": "stream",
     "name": "stdout",
     "text": [
      "Cannot connect to SQL Server\n"
     ]
    }
   ],
   "metadata": {}
  },
  {
   "cell_type": "code",
   "execution_count": 7,
   "source": [
    "try: mySqlCon = mysql.connect(host='localhost', user='root', password='nintendo123', database='mydb'); print ('Succesfully connected to MySQL Server')\r\n",
    "except: print ('Cannot connect to MySQL Server')"
   ],
   "outputs": [
    {
     "output_type": "stream",
     "name": "stdout",
     "text": [
      "Succesfully connected to MySQL Server\n"
     ]
    }
   ],
   "metadata": {}
  },
  {
   "cell_type": "code",
   "execution_count": 8,
   "source": [
    "SqlQueryString = 'SELECT * FROM Purchasing.Vendor;'\r\n",
    "\r\n",
    "SqlQuery = pd.read_sql_query(SqlQueryString, sqlCon)\r\n",
    "\r\n",
    "SqlQuery"
   ],
   "outputs": [
    {
     "output_type": "execute_result",
     "data": {
      "text/html": [
       "<div>\n",
       "<style scoped>\n",
       "    .dataframe tbody tr th:only-of-type {\n",
       "        vertical-align: middle;\n",
       "    }\n",
       "\n",
       "    .dataframe tbody tr th {\n",
       "        vertical-align: top;\n",
       "    }\n",
       "\n",
       "    .dataframe thead th {\n",
       "        text-align: right;\n",
       "    }\n",
       "</style>\n",
       "<table border=\"1\" class=\"dataframe\">\n",
       "  <thead>\n",
       "    <tr style=\"text-align: right;\">\n",
       "      <th></th>\n",
       "      <th>BusinessEntityID</th>\n",
       "      <th>AccountNumber</th>\n",
       "      <th>Name</th>\n",
       "      <th>CreditRating</th>\n",
       "      <th>PreferredVendorStatus</th>\n",
       "      <th>ActiveFlag</th>\n",
       "      <th>PurchasingWebServiceURL</th>\n",
       "      <th>ModifiedDate</th>\n",
       "    </tr>\n",
       "  </thead>\n",
       "  <tbody>\n",
       "    <tr>\n",
       "      <th>0</th>\n",
       "      <td>1492</td>\n",
       "      <td>AUSTRALI0001</td>\n",
       "      <td>Australia Bike Retailer</td>\n",
       "      <td>1</td>\n",
       "      <td>True</td>\n",
       "      <td>True</td>\n",
       "      <td>None</td>\n",
       "      <td>2011-12-23</td>\n",
       "    </tr>\n",
       "    <tr>\n",
       "      <th>1</th>\n",
       "      <td>1494</td>\n",
       "      <td>ALLENSON0001</td>\n",
       "      <td>Allenson Cycles</td>\n",
       "      <td>2</td>\n",
       "      <td>True</td>\n",
       "      <td>True</td>\n",
       "      <td>None</td>\n",
       "      <td>2011-04-25</td>\n",
       "    </tr>\n",
       "    <tr>\n",
       "      <th>2</th>\n",
       "      <td>1496</td>\n",
       "      <td>ADVANCED0001</td>\n",
       "      <td>Advanced Bicycles</td>\n",
       "      <td>1</td>\n",
       "      <td>True</td>\n",
       "      <td>True</td>\n",
       "      <td>None</td>\n",
       "      <td>2011-04-25</td>\n",
       "    </tr>\n",
       "    <tr>\n",
       "      <th>3</th>\n",
       "      <td>1498</td>\n",
       "      <td>TRIKES0001</td>\n",
       "      <td>Trikes, Inc.</td>\n",
       "      <td>2</td>\n",
       "      <td>True</td>\n",
       "      <td>True</td>\n",
       "      <td>None</td>\n",
       "      <td>2012-02-03</td>\n",
       "    </tr>\n",
       "    <tr>\n",
       "      <th>4</th>\n",
       "      <td>1500</td>\n",
       "      <td>MORGANB0001</td>\n",
       "      <td>Morgan Bike Accessories</td>\n",
       "      <td>1</td>\n",
       "      <td>True</td>\n",
       "      <td>True</td>\n",
       "      <td>None</td>\n",
       "      <td>2012-02-02</td>\n",
       "    </tr>\n",
       "    <tr>\n",
       "      <th>...</th>\n",
       "      <td>...</td>\n",
       "      <td>...</td>\n",
       "      <td>...</td>\n",
       "      <td>...</td>\n",
       "      <td>...</td>\n",
       "      <td>...</td>\n",
       "      <td>...</td>\n",
       "      <td>...</td>\n",
       "    </tr>\n",
       "    <tr>\n",
       "      <th>99</th>\n",
       "      <td>1690</td>\n",
       "      <td>BLOOMING0001</td>\n",
       "      <td>Bloomington Multisport</td>\n",
       "      <td>1</td>\n",
       "      <td>True</td>\n",
       "      <td>True</td>\n",
       "      <td>None</td>\n",
       "      <td>2011-12-23</td>\n",
       "    </tr>\n",
       "    <tr>\n",
       "      <th>100</th>\n",
       "      <td>1692</td>\n",
       "      <td>CARLSON0001</td>\n",
       "      <td>Carlson Specialties</td>\n",
       "      <td>2</td>\n",
       "      <td>True</td>\n",
       "      <td>True</td>\n",
       "      <td>None</td>\n",
       "      <td>2011-12-24</td>\n",
       "    </tr>\n",
       "    <tr>\n",
       "      <th>101</th>\n",
       "      <td>1694</td>\n",
       "      <td>COMPETE0002</td>\n",
       "      <td>Compete, Inc.</td>\n",
       "      <td>1</td>\n",
       "      <td>True</td>\n",
       "      <td>True</td>\n",
       "      <td>None</td>\n",
       "      <td>2011-12-24</td>\n",
       "    </tr>\n",
       "    <tr>\n",
       "      <th>102</th>\n",
       "      <td>1696</td>\n",
       "      <td>CHICAGO0001</td>\n",
       "      <td>Chicago City Saddles</td>\n",
       "      <td>1</td>\n",
       "      <td>True</td>\n",
       "      <td>True</td>\n",
       "      <td>None</td>\n",
       "      <td>2011-12-24</td>\n",
       "    </tr>\n",
       "    <tr>\n",
       "      <th>103</th>\n",
       "      <td>1698</td>\n",
       "      <td>BUSINESS0001</td>\n",
       "      <td>Business Equipment Center</td>\n",
       "      <td>2</td>\n",
       "      <td>True</td>\n",
       "      <td>True</td>\n",
       "      <td>None</td>\n",
       "      <td>2011-12-23</td>\n",
       "    </tr>\n",
       "  </tbody>\n",
       "</table>\n",
       "<p>104 rows × 8 columns</p>\n",
       "</div>"
      ],
      "text/plain": [
       "     BusinessEntityID AccountNumber                       Name  CreditRating  \\\n",
       "0                1492  AUSTRALI0001    Australia Bike Retailer             1   \n",
       "1                1494  ALLENSON0001            Allenson Cycles             2   \n",
       "2                1496  ADVANCED0001          Advanced Bicycles             1   \n",
       "3                1498    TRIKES0001               Trikes, Inc.             2   \n",
       "4                1500   MORGANB0001    Morgan Bike Accessories             1   \n",
       "..                ...           ...                        ...           ...   \n",
       "99               1690  BLOOMING0001     Bloomington Multisport             1   \n",
       "100              1692   CARLSON0001        Carlson Specialties             2   \n",
       "101              1694   COMPETE0002              Compete, Inc.             1   \n",
       "102              1696   CHICAGO0001       Chicago City Saddles             1   \n",
       "103              1698  BUSINESS0001  Business Equipment Center             2   \n",
       "\n",
       "     PreferredVendorStatus  ActiveFlag PurchasingWebServiceURL ModifiedDate  \n",
       "0                     True        True                    None   2011-12-23  \n",
       "1                     True        True                    None   2011-04-25  \n",
       "2                     True        True                    None   2011-04-25  \n",
       "3                     True        True                    None   2012-02-03  \n",
       "4                     True        True                    None   2012-02-02  \n",
       "..                     ...         ...                     ...          ...  \n",
       "99                    True        True                    None   2011-12-23  \n",
       "100                   True        True                    None   2011-12-24  \n",
       "101                   True        True                    None   2011-12-24  \n",
       "102                   True        True                    None   2011-12-24  \n",
       "103                   True        True                    None   2011-12-23  \n",
       "\n",
       "[104 rows x 8 columns]"
      ]
     },
     "metadata": {},
     "execution_count": 8
    }
   ],
   "metadata": {}
  },
  {
   "cell_type": "code",
   "execution_count": null,
   "source": [],
   "outputs": [],
   "metadata": {}
  },
  {
   "cell_type": "code",
   "execution_count": null,
   "source": [],
   "outputs": [],
   "metadata": {}
  },
  {
   "cell_type": "code",
   "execution_count": null,
   "source": [],
   "outputs": [],
   "metadata": {}
  },
  {
   "cell_type": "code",
   "execution_count": null,
   "source": [],
   "outputs": [],
   "metadata": {}
  }
 ],
 "metadata": {
  "orig_nbformat": 4,
  "language_info": {
   "name": "python",
   "version": "3.8.8",
   "mimetype": "text/x-python",
   "codemirror_mode": {
    "name": "ipython",
    "version": 3
   },
   "pygments_lexer": "ipython3",
   "nbconvert_exporter": "python",
   "file_extension": ".py"
  },
  "kernelspec": {
   "name": "python3",
   "display_name": "Python 3.8.8 64-bit ('base': conda)"
  },
  "interpreter": {
   "hash": "b3ba2566441a7c06988d0923437866b63cedc61552a5af99d1f4fb67d367b25f"
  }
 },
 "nbformat": 4,
 "nbformat_minor": 2
}